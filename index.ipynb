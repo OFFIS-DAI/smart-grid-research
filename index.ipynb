{
 "cells": [
  {
   "cell_type": "markdown",
   "source": [
    "# Smart Grid Research: Simulation \"Hands-on\" Scenario\n",
    "\n",
    "## This Jupyter Notebook introduces the basic scenario for simulating a very basic scenario in a smart grid. "
   ],
   "metadata": {
    "collapsed": false
   },
   "id": "58cb48946bd591dc"
  },
  {
   "cell_type": "markdown",
   "source": [
    "Add Python imports."
   ],
   "metadata": {
    "collapsed": false
   },
   "id": "23eee352791fb9c5"
  },
  {
   "cell_type": "code",
   "execution_count": null,
   "outputs": [],
   "source": [
    "import mosaik.util"
   ],
   "metadata": {
    "collapsed": false
   },
   "id": "4a12ebca8246956a"
  },
  {
   "cell_type": "markdown",
   "source": [
    "Define how to start the adapter."
   ],
   "metadata": {
    "collapsed": false
   },
   "id": "57ee44a86746a27c"
  },
  {
   "cell_type": "code",
   "execution_count": null,
   "outputs": [],
   "source": [
    "SIM_CONFIGURATION = {\n",
    "    'CSV': {\n",
    "        'python': 'mosaik_csv:CSV',\n",
    "    },\n",
    "    'PV': {\n",
    "        'python': 'mosaik_components.pv.pvsimulator:PVSimulator'\n",
    "    },\n",
    "    'Collector': {\n",
    "        'python': 'simulators.collector:Collector'\n",
    "    }\n",
    "}"
   ],
   "metadata": {
    "collapsed": false
   },
   "id": "7b08200484cdd54f"
  },
  {
   "cell_type": "markdown",
   "source": [
    "Define basic constants such as the duration of the simulation."
   ],
   "metadata": {
    "collapsed": false
   },
   "id": "9edcacac505fce10"
  },
  {
   "cell_type": "code",
   "execution_count": null,
   "outputs": [],
   "source": [
    "START = '2014-01-01 00:00:00'\n",
    "SIMULATION_END = 24 * 3600  # 1 day"
   ],
   "metadata": {
    "collapsed": false
   },
   "id": "dc66d993fd46cf5a"
  },
  {
   "cell_type": "markdown",
   "source": [
    "Initialize the simulation by defining the \"world\". "
   ],
   "metadata": {
    "collapsed": false
   },
   "id": "e4a862486d05f95f"
  },
  {
   "cell_type": "code",
   "execution_count": null,
   "outputs": [],
   "source": [
    "world = mosaik.World(SIM_CONFIGURATION)"
   ],
   "metadata": {
    "collapsed": false
   },
   "id": "cd28a1f127824639"
  },
  {
   "cell_type": "markdown",
   "source": [
    "Start simulator processes."
   ],
   "metadata": {
    "collapsed": false
   },
   "id": "c42f7cfd594b3f3a"
  },
  {
   "cell_type": "code",
   "execution_count": null,
   "outputs": [],
   "source": [
    "# PV\n",
    "PV_DATA = 'csv_data/pv_10kw.csv'\n",
    "SIM_START = '2014-01-01 00:00:00'\n",
    "pv_data = world.start(\"CSV\",\n",
    "                      sim_start=SIM_START,\n",
    "                      datafile=PV_DATA)\n",
    "\n",
    "# Household\n",
    "HH_DATA = 'csv_data/household_load_profile.csv'\n",
    "household_data_simulator = world.start(\"CSV\",\n",
    "                                       sim_start=SIM_START,\n",
    "                                       datafile=HH_DATA)"
   ],
   "metadata": {
    "collapsed": false
   },
   "id": "1d6009beff88bef8"
  },
  {
   "cell_type": "markdown",
   "source": [
    "Instantiate model entities and parametrize."
   ],
   "metadata": {
    "collapsed": false
   },
   "id": "cc946b6fd53be729"
  },
  {
   "cell_type": "code",
   "execution_count": null,
   "outputs": [],
   "source": [
    "pv_data_model = pv_data.PV()\n",
    "\n",
    "hh_data_model = household_data_simulator.Household()\n",
    "\n",
    "collector = world.start('Collector')\n",
    "monitor = collector.Monitor()"
   ],
   "metadata": {
    "collapsed": false
   },
   "id": "2aea5b5f0d826c1a"
  },
  {
   "cell_type": "markdown",
   "source": [
    "Connect models via dataflow. "
   ],
   "metadata": {
    "collapsed": false
   },
   "id": "a138e4f7ff04ed"
  },
  {
   "cell_type": "code",
   "execution_count": null,
   "outputs": [],
   "source": [
    "world.connect(pv_data_model, monitor, 'P[W]')\n",
    "world.connect(hh_data_model, monitor, 'P[W]')"
   ],
   "metadata": {
    "collapsed": false
   },
   "id": "bfbc252f5f09a828"
  },
  {
   "cell_type": "markdown",
   "source": [
    "Start the simulation. "
   ],
   "metadata": {
    "collapsed": false
   },
   "id": "8c8419f491f06c2"
  },
  {
   "cell_type": "code",
   "execution_count": null,
   "outputs": [],
   "source": [
    "world.run(until=SIMULATION_END)"
   ],
   "metadata": {
    "collapsed": false
   },
   "id": "d903eb8034dce41d"
  }
 ],
 "metadata": {
  "kernelspec": {
   "display_name": "Python 3",
   "language": "python",
   "name": "python3"
  },
  "language_info": {
   "codemirror_mode": {
    "name": "ipython",
    "version": 2
   },
   "file_extension": ".py",
   "mimetype": "text/x-python",
   "name": "python",
   "nbconvert_exporter": "python",
   "pygments_lexer": "ipython2",
   "version": "2.7.6"
  }
 },
 "nbformat": 4,
 "nbformat_minor": 5
}
