{
 "cells": [
  {
   "cell_type": "markdown",
   "source": [
    "# Smart Grid Research: Simulation \"Hands-on\" Scenario\n",
    "\n",
    "## This Jupyter Notebook introduces the basic scenario for simulating a very basic scenario in a smart grid. "
   ],
   "metadata": {
    "collapsed": false
   },
   "id": "58cb48946bd591dc"
  },
  {
   "cell_type": "markdown",
   "source": [
    "Add Python imports."
   ],
   "metadata": {
    "collapsed": false
   },
   "id": "23eee352791fb9c5"
  },
  {
   "cell_type": "code",
   "execution_count": 1,
   "outputs": [],
   "source": [
    "import import_ipynb\n",
    "\n",
    "# Only for Jupyter notebooks\n",
    "import nest_asyncio\n",
    "\n",
    "nest_asyncio.apply()\n",
    "\n",
    "import mosaik.util"
   ],
   "metadata": {
    "collapsed": false,
    "ExecuteTime": {
     "end_time": "2024-12-09T15:34:32.232965465Z",
     "start_time": "2024-12-09T15:34:31.922082417Z"
    }
   },
   "id": "4a12ebca8246956a"
  },
  {
   "cell_type": "markdown",
   "source": [
    "Define how to start the adapter."
   ],
   "metadata": {
    "collapsed": false
   },
   "id": "57ee44a86746a27c"
  },
  {
   "cell_type": "code",
   "execution_count": 2,
   "outputs": [],
   "source": [
    "SIM_CONFIGURATION = {\n",
    "    'CSV': {\n",
    "        'python': 'mosaik_csv:CSV',\n",
    "    },\n",
    "    'PV': {\n",
    "        'python': 'mosaik_components.pv.pvsimulator:PVSimulator'\n",
    "    },\n",
    "    'Collector': {\n",
    "        'python': 'simulators.collector:Collector'\n",
    "    }\n",
    "}"
   ],
   "metadata": {
    "collapsed": false,
    "ExecuteTime": {
     "end_time": "2024-12-09T15:34:32.255993288Z",
     "start_time": "2024-12-09T15:34:32.231070990Z"
    }
   },
   "id": "7b08200484cdd54f"
  },
  {
   "cell_type": "markdown",
   "source": [
    "Define basic constants such as the duration of the simulation."
   ],
   "metadata": {
    "collapsed": false
   },
   "id": "9edcacac505fce10"
  },
  {
   "cell_type": "code",
   "execution_count": 3,
   "outputs": [],
   "source": [
    "START = '2014-01-01 00:00:00'\n",
    "SIMULATION_END = 24 * 3600  # 1 day"
   ],
   "metadata": {
    "collapsed": false,
    "ExecuteTime": {
     "end_time": "2024-12-09T15:34:32.307201509Z",
     "start_time": "2024-12-09T15:34:32.256328557Z"
    }
   },
   "id": "dc66d993fd46cf5a"
  },
  {
   "cell_type": "markdown",
   "source": [
    "Initialize the simulation by defining the \"world\". "
   ],
   "metadata": {
    "collapsed": false
   },
   "id": "e4a862486d05f95f"
  },
  {
   "cell_type": "code",
   "execution_count": 4,
   "outputs": [
    {
     "name": "stderr",
     "output_type": "stream",
     "text": [
      "\n",
      "        ____                              _ _\n",
      "       /    \\                            (_) |\n",
      "  ____/      \\  _ __ ___   ___  ___  __ _ _| | __\n",
      " /    \\      / | '_ ` _ \\ / _ \\/ __|/ _` | | |/ / \n",
      "/      \\____/  | | | | | | (_) \\__ \\ (_| | |   <     \n",
      "\\      /    \\  |_| |_| |_|\\___/|___/\\__,_|_|_|\\_\\    \n",
      " \\____/      \\____\n",
      " /    \\      /    \\    mosaik version:     3.3.3\n",
      "/      \\____/      \\   mosaik API version: 3.0.12\n",
      "\\      /    \\      /   Python version:     3.9.5\n",
      " \\____/      \\____/    OS:                 Linux-5.15.0-125-generic-x86_64-with-glibc2.31\n",
      "      \\      /         Documentation:      https://mosaik.readthedocs.io/en/3.3.3/\n",
      "       \\____/          Get in touch:       https://github.com/orgs/OFFIS-mosaik/discussions\n",
      "\n",
      "\n"
     ]
    }
   ],
   "source": [
    "world = mosaik.World(SIM_CONFIGURATION)"
   ],
   "metadata": {
    "collapsed": false,
    "ExecuteTime": {
     "end_time": "2024-12-09T15:34:32.349659082Z",
     "start_time": "2024-12-09T15:34:32.284333074Z"
    }
   },
   "id": "cd28a1f127824639"
  },
  {
   "cell_type": "markdown",
   "source": [
    "Start simulator processes."
   ],
   "metadata": {
    "collapsed": false
   },
   "id": "c42f7cfd594b3f3a"
  },
  {
   "cell_type": "code",
   "execution_count": 5,
   "outputs": [
    {
     "name": "stderr",
     "output_type": "stream",
     "text": [
      "\u001B[32m2024-12-09 16:34:32.323\u001B[0m | \u001B[1mINFO    \u001B[0m | \u001B[36mmosaik.scenario\u001B[0m:\u001B[36mstart\u001B[0m:\u001B[36m311\u001B[0m - \u001B[1mStarting \"CSV\" as \"CSV-0\" ...\u001B[0m\n"
     ]
    },
    {
     "ename": "RuntimeError",
     "evalue": "Cannot run the event loop while another loop is running",
     "output_type": "error",
     "traceback": [
      "\u001B[0;31m---------------------------------------------------------------------------\u001B[0m",
      "\u001B[0;31mRuntimeError\u001B[0m                              Traceback (most recent call last)",
      "Cell \u001B[0;32mIn[5], line 4\u001B[0m\n\u001B[1;32m      2\u001B[0m PV_DATA \u001B[38;5;241m=\u001B[39m \u001B[38;5;124m'\u001B[39m\u001B[38;5;124mcsv_data/pv_10kw.csv\u001B[39m\u001B[38;5;124m'\u001B[39m\n\u001B[1;32m      3\u001B[0m SIM_START \u001B[38;5;241m=\u001B[39m \u001B[38;5;124m'\u001B[39m\u001B[38;5;124m2014-01-01 00:00:00\u001B[39m\u001B[38;5;124m'\u001B[39m\n\u001B[0;32m----> 4\u001B[0m pv_data \u001B[38;5;241m=\u001B[39m \u001B[43mworld\u001B[49m\u001B[38;5;241;43m.\u001B[39;49m\u001B[43mstart\u001B[49m\u001B[43m(\u001B[49m\u001B[38;5;124;43m\"\u001B[39;49m\u001B[38;5;124;43mCSV\u001B[39;49m\u001B[38;5;124;43m\"\u001B[39;49m\u001B[43m,\u001B[49m\n\u001B[1;32m      5\u001B[0m \u001B[43m                      \u001B[49m\u001B[43msim_start\u001B[49m\u001B[38;5;241;43m=\u001B[39;49m\u001B[43mSIM_START\u001B[49m\u001B[43m,\u001B[49m\n\u001B[1;32m      6\u001B[0m \u001B[43m                      \u001B[49m\u001B[43mdatafile\u001B[49m\u001B[38;5;241;43m=\u001B[39;49m\u001B[43mPV_DATA\u001B[49m\u001B[43m)\u001B[49m\n\u001B[1;32m      8\u001B[0m \u001B[38;5;66;03m# Household\u001B[39;00m\n\u001B[1;32m      9\u001B[0m HH_DATA \u001B[38;5;241m=\u001B[39m \u001B[38;5;124m'\u001B[39m\u001B[38;5;124mcsv_data/household_load_profile.csv\u001B[39m\u001B[38;5;124m'\u001B[39m\n",
      "File \u001B[0;32m~/PycharmProjects/smart-grid-research/venv/lib/python3.9/site-packages/mosaik/scenario.py:316\u001B[0m, in \u001B[0;36mWorld.start\u001B[0;34m(self, sim_name, sim_id, **sim_params)\u001B[0m\n\u001B[1;32m    307\u001B[0m     \u001B[38;5;28;01mraise\u001B[39;00m ScenarioError(\n\u001B[1;32m    308\u001B[0m         \u001B[38;5;124mf\u001B[39m\u001B[38;5;124m\"\u001B[39m\u001B[38;5;124mA simulator with sim_id \u001B[39m\u001B[38;5;124m'\u001B[39m\u001B[38;5;132;01m{\u001B[39;00msim_id\u001B[38;5;132;01m}\u001B[39;00m\u001B[38;5;124m'\u001B[39m\u001B[38;5;124m has already been started. \u001B[39m\u001B[38;5;124m\"\u001B[39m\n\u001B[1;32m    309\u001B[0m         \u001B[38;5;124m\"\u001B[39m\u001B[38;5;124mChoose a different sim_id.\u001B[39m\u001B[38;5;124m\"\u001B[39m\n\u001B[1;32m    310\u001B[0m     )\n\u001B[1;32m    311\u001B[0m logger\u001B[38;5;241m.\u001B[39minfo(\n\u001B[1;32m    312\u001B[0m     \u001B[38;5;124m'\u001B[39m\u001B[38;5;124mStarting \u001B[39m\u001B[38;5;124m\"\u001B[39m\u001B[38;5;132;01m{sim_name}\u001B[39;00m\u001B[38;5;124m\"\u001B[39m\u001B[38;5;124m as \u001B[39m\u001B[38;5;124m\"\u001B[39m\u001B[38;5;132;01m{sim_id}\u001B[39;00m\u001B[38;5;124m\"\u001B[39m\u001B[38;5;124m ...\u001B[39m\u001B[38;5;124m'\u001B[39m,\n\u001B[1;32m    313\u001B[0m     sim_name\u001B[38;5;241m=\u001B[39msim_name,\n\u001B[1;32m    314\u001B[0m     sim_id\u001B[38;5;241m=\u001B[39msim_id,\n\u001B[1;32m    315\u001B[0m )\n\u001B[0;32m--> 316\u001B[0m proxy \u001B[38;5;241m=\u001B[39m \u001B[38;5;28;43mself\u001B[39;49m\u001B[38;5;241;43m.\u001B[39;49m\u001B[43mloop\u001B[49m\u001B[38;5;241;43m.\u001B[39;49m\u001B[43mrun_until_complete\u001B[49m\u001B[43m(\u001B[49m\n\u001B[1;32m    317\u001B[0m \u001B[43m    \u001B[49m\u001B[43msimmanager\u001B[49m\u001B[38;5;241;43m.\u001B[39;49m\u001B[43mstart\u001B[49m\u001B[43m(\u001B[49m\u001B[38;5;28;43mself\u001B[39;49m\u001B[43m,\u001B[49m\u001B[43m \u001B[49m\u001B[43msim_name\u001B[49m\u001B[43m,\u001B[49m\u001B[43m \u001B[49m\u001B[43msim_id\u001B[49m\u001B[43m,\u001B[49m\u001B[43m \u001B[49m\u001B[38;5;28;43mself\u001B[39;49m\u001B[38;5;241;43m.\u001B[39;49m\u001B[43mtime_resolution\u001B[49m\u001B[43m,\u001B[49m\u001B[43m \u001B[49m\u001B[43msim_params\u001B[49m\u001B[43m)\u001B[49m\n\u001B[1;32m    318\u001B[0m \u001B[43m\u001B[49m\u001B[43m)\u001B[49m\n\u001B[1;32m    319\u001B[0m \u001B[38;5;66;03m# Create the ModelFactory before the SimRunner as it performs\u001B[39;00m\n\u001B[1;32m    320\u001B[0m \u001B[38;5;66;03m# some checks on the simulator's meta.\u001B[39;00m\n\u001B[1;32m    321\u001B[0m model_factory \u001B[38;5;241m=\u001B[39m ModelFactory(\u001B[38;5;28mself\u001B[39m, \u001B[38;5;28mself\u001B[39m\u001B[38;5;241m.\u001B[39mcurrent_group, sim_id, proxy)\n",
      "File \u001B[0;32m/usr/lib/python3.9/asyncio/base_events.py:618\u001B[0m, in \u001B[0;36mBaseEventLoop.run_until_complete\u001B[0;34m(self, future)\u001B[0m\n\u001B[1;32m    607\u001B[0m \u001B[38;5;250m\u001B[39m\u001B[38;5;124;03m\"\"\"Run until the Future is done.\u001B[39;00m\n\u001B[1;32m    608\u001B[0m \n\u001B[1;32m    609\u001B[0m \u001B[38;5;124;03mIf the argument is a coroutine, it is wrapped in a Task.\u001B[39;00m\n\u001B[0;32m   (...)\u001B[0m\n\u001B[1;32m    615\u001B[0m \u001B[38;5;124;03mReturn the Future's result, or raise its exception.\u001B[39;00m\n\u001B[1;32m    616\u001B[0m \u001B[38;5;124;03m\"\"\"\u001B[39;00m\n\u001B[1;32m    617\u001B[0m \u001B[38;5;28mself\u001B[39m\u001B[38;5;241m.\u001B[39m_check_closed()\n\u001B[0;32m--> 618\u001B[0m \u001B[38;5;28;43mself\u001B[39;49m\u001B[38;5;241;43m.\u001B[39;49m\u001B[43m_check_running\u001B[49m\u001B[43m(\u001B[49m\u001B[43m)\u001B[49m\n\u001B[1;32m    620\u001B[0m new_task \u001B[38;5;241m=\u001B[39m \u001B[38;5;129;01mnot\u001B[39;00m futures\u001B[38;5;241m.\u001B[39misfuture(future)\n\u001B[1;32m    621\u001B[0m future \u001B[38;5;241m=\u001B[39m tasks\u001B[38;5;241m.\u001B[39mensure_future(future, loop\u001B[38;5;241m=\u001B[39m\u001B[38;5;28mself\u001B[39m)\n",
      "File \u001B[0;32m/usr/lib/python3.9/asyncio/base_events.py:580\u001B[0m, in \u001B[0;36mBaseEventLoop._check_running\u001B[0;34m(self)\u001B[0m\n\u001B[1;32m    578\u001B[0m     \u001B[38;5;28;01mraise\u001B[39;00m \u001B[38;5;167;01mRuntimeError\u001B[39;00m(\u001B[38;5;124m'\u001B[39m\u001B[38;5;124mThis event loop is already running\u001B[39m\u001B[38;5;124m'\u001B[39m)\n\u001B[1;32m    579\u001B[0m \u001B[38;5;28;01mif\u001B[39;00m events\u001B[38;5;241m.\u001B[39m_get_running_loop() \u001B[38;5;129;01mis\u001B[39;00m \u001B[38;5;129;01mnot\u001B[39;00m \u001B[38;5;28;01mNone\u001B[39;00m:\n\u001B[0;32m--> 580\u001B[0m     \u001B[38;5;28;01mraise\u001B[39;00m \u001B[38;5;167;01mRuntimeError\u001B[39;00m(\n\u001B[1;32m    581\u001B[0m         \u001B[38;5;124m'\u001B[39m\u001B[38;5;124mCannot run the event loop while another loop is running\u001B[39m\u001B[38;5;124m'\u001B[39m)\n",
      "\u001B[0;31mRuntimeError\u001B[0m: Cannot run the event loop while another loop is running"
     ]
    }
   ],
   "source": [
    "# PV\n",
    "PV_DATA = 'csv_data/pv_10kw.csv'\n",
    "SIM_START = '2014-01-01 00:00:00'\n",
    "pv_data = world.start(\"CSV\",\n",
    "                      sim_start=SIM_START,\n",
    "                      datafile=PV_DATA)\n",
    "\n",
    "# Household\n",
    "HH_DATA = 'csv_data/household_load_profile.csv'\n",
    "household_data_simulator = world.start(\"CSV\",\n",
    "                                       sim_start=SIM_START,\n",
    "                                       datafile=HH_DATA)"
   ],
   "metadata": {
    "collapsed": false,
    "ExecuteTime": {
     "end_time": "2024-12-09T15:34:33.270538131Z",
     "start_time": "2024-12-09T15:34:32.322757321Z"
    }
   },
   "id": "1d6009beff88bef8"
  },
  {
   "cell_type": "markdown",
   "source": [
    "Instantiate model entities and parametrize."
   ],
   "metadata": {
    "collapsed": false
   },
   "id": "cc946b6fd53be729"
  },
  {
   "cell_type": "code",
   "execution_count": null,
   "outputs": [],
   "source": [
    "pv_data_model = pv_data.PV()\n",
    "\n",
    "hh_data_model = household_data_simulator.Household()\n",
    "\n",
    "collector = world.start('Collector')\n",
    "monitor = collector.Monitor()"
   ],
   "metadata": {
    "collapsed": false,
    "ExecuteTime": {
     "end_time": "2024-12-09T15:34:33.281741218Z",
     "start_time": "2024-12-09T15:34:33.275303720Z"
    }
   },
   "id": "2aea5b5f0d826c1a"
  },
  {
   "cell_type": "markdown",
   "source": [
    "Connect models via dataflow. "
   ],
   "metadata": {
    "collapsed": false
   },
   "id": "a138e4f7ff04ed"
  },
  {
   "cell_type": "code",
   "execution_count": null,
   "outputs": [],
   "source": [
    "world.connect(pv_data_model, monitor, 'P[W]')\n",
    "world.connect(hh_data_model, monitor, 'P[W]')"
   ],
   "metadata": {
    "collapsed": false,
    "ExecuteTime": {
     "end_time": "2024-12-09T15:34:33.282882437Z",
     "start_time": "2024-12-09T15:34:33.282358920Z"
    }
   },
   "id": "bfbc252f5f09a828"
  },
  {
   "cell_type": "markdown",
   "source": [
    "Start the simulation. "
   ],
   "metadata": {
    "collapsed": false
   },
   "id": "8c8419f491f06c2"
  },
  {
   "cell_type": "code",
   "execution_count": null,
   "outputs": [],
   "source": [
    "world.run(until=SIMULATION_END)"
   ],
   "metadata": {
    "collapsed": false,
    "ExecuteTime": {
     "end_time": "2024-12-09T15:34:33.394270644Z",
     "start_time": "2024-12-09T15:34:33.324364646Z"
    }
   },
   "id": "d903eb8034dce41d"
  }
 ],
 "metadata": {
  "kernelspec": {
   "display_name": "Python 3",
   "language": "python",
   "name": "python3"
  },
  "language_info": {
   "codemirror_mode": {
    "name": "ipython",
    "version": 2
   },
   "file_extension": ".py",
   "mimetype": "text/x-python",
   "name": "python",
   "nbconvert_exporter": "python",
   "pygments_lexer": "ipython2",
   "version": "2.7.6"
  }
 },
 "nbformat": 4,
 "nbformat_minor": 5
}
